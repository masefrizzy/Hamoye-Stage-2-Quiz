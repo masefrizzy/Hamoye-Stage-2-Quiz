{
  "nbformat": 4,
  "nbformat_minor": 0,
  "metadata": {
    "colab": {
      "name": "Hamoye Stage B Quiz",
      "provenance": [],
      "collapsed_sections": []
    },
    "kernelspec": {
      "name": "python3",
      "display_name": "Python 3"
    }
  },
  "cells": [
    {
      "cell_type": "markdown",
      "metadata": {
        "id": "Bbjr2pMPv70Q",
        "colab_type": "text"
      },
      "source": [
        "**Import necessary modules**"
      ]
    },
    {
      "cell_type": "code",
      "metadata": {
        "id": "IUrcIJd8vdI2",
        "colab_type": "code",
        "colab": {
          "base_uri": "https://localhost:8080/",
          "height": 71
        },
        "outputId": "586ffeb9-e350-42e2-e496-6ac766253d29"
      },
      "source": [
        "import numpy as np\n",
        "import pandas as pd\n",
        "import seaborn as sns\n",
        "import matplotlib.pyplot as plt\n",
        "%matplotlib inline"
      ],
      "execution_count": 1,
      "outputs": [
        {
          "output_type": "stream",
          "text": [
            "/usr/local/lib/python3.6/dist-packages/statsmodels/tools/_testing.py:19: FutureWarning: pandas.util.testing is deprecated. Use the functions in the public API at pandas.testing instead.\n",
            "  import pandas.util.testing as tm\n"
          ],
          "name": "stderr"
        }
      ]
    },
    {
      "cell_type": "code",
      "metadata": {
        "id": "cJA1aOX_wHRe",
        "colab_type": "code",
        "colab": {
          "base_uri": "https://localhost:8080/",
          "height": 394
        },
        "outputId": "0127dbec-685e-4e13-d2dc-2961b82ca979"
      },
      "source": [
        "# Load the dataset\n",
        "df = pd.read_csv(\"https://archive.ics.uci.edu/ml/machine-learning-databases/00374/energydata_complete.csv\")\n",
        "df.head()"
      ],
      "execution_count": 2,
      "outputs": [
        {
          "output_type": "execute_result",
          "data": {
            "text/html": [
              "<div>\n",
              "<style scoped>\n",
              "    .dataframe tbody tr th:only-of-type {\n",
              "        vertical-align: middle;\n",
              "    }\n",
              "\n",
              "    .dataframe tbody tr th {\n",
              "        vertical-align: top;\n",
              "    }\n",
              "\n",
              "    .dataframe thead th {\n",
              "        text-align: right;\n",
              "    }\n",
              "</style>\n",
              "<table border=\"1\" class=\"dataframe\">\n",
              "  <thead>\n",
              "    <tr style=\"text-align: right;\">\n",
              "      <th></th>\n",
              "      <th>date</th>\n",
              "      <th>Appliances</th>\n",
              "      <th>lights</th>\n",
              "      <th>T1</th>\n",
              "      <th>RH_1</th>\n",
              "      <th>T2</th>\n",
              "      <th>RH_2</th>\n",
              "      <th>T3</th>\n",
              "      <th>RH_3</th>\n",
              "      <th>T4</th>\n",
              "      <th>RH_4</th>\n",
              "      <th>T5</th>\n",
              "      <th>RH_5</th>\n",
              "      <th>T6</th>\n",
              "      <th>RH_6</th>\n",
              "      <th>T7</th>\n",
              "      <th>RH_7</th>\n",
              "      <th>T8</th>\n",
              "      <th>RH_8</th>\n",
              "      <th>T9</th>\n",
              "      <th>RH_9</th>\n",
              "      <th>T_out</th>\n",
              "      <th>Press_mm_hg</th>\n",
              "      <th>RH_out</th>\n",
              "      <th>Windspeed</th>\n",
              "      <th>Visibility</th>\n",
              "      <th>Tdewpoint</th>\n",
              "      <th>rv1</th>\n",
              "      <th>rv2</th>\n",
              "    </tr>\n",
              "  </thead>\n",
              "  <tbody>\n",
              "    <tr>\n",
              "      <th>0</th>\n",
              "      <td>2016-01-11 17:00:00</td>\n",
              "      <td>60</td>\n",
              "      <td>30</td>\n",
              "      <td>19.89</td>\n",
              "      <td>47.596667</td>\n",
              "      <td>19.2</td>\n",
              "      <td>44.790000</td>\n",
              "      <td>19.79</td>\n",
              "      <td>44.730000</td>\n",
              "      <td>19.000000</td>\n",
              "      <td>45.566667</td>\n",
              "      <td>17.166667</td>\n",
              "      <td>55.20</td>\n",
              "      <td>7.026667</td>\n",
              "      <td>84.256667</td>\n",
              "      <td>17.200000</td>\n",
              "      <td>41.626667</td>\n",
              "      <td>18.2</td>\n",
              "      <td>48.900000</td>\n",
              "      <td>17.033333</td>\n",
              "      <td>45.53</td>\n",
              "      <td>6.600000</td>\n",
              "      <td>733.5</td>\n",
              "      <td>92.0</td>\n",
              "      <td>7.000000</td>\n",
              "      <td>63.000000</td>\n",
              "      <td>5.3</td>\n",
              "      <td>13.275433</td>\n",
              "      <td>13.275433</td>\n",
              "    </tr>\n",
              "    <tr>\n",
              "      <th>1</th>\n",
              "      <td>2016-01-11 17:10:00</td>\n",
              "      <td>60</td>\n",
              "      <td>30</td>\n",
              "      <td>19.89</td>\n",
              "      <td>46.693333</td>\n",
              "      <td>19.2</td>\n",
              "      <td>44.722500</td>\n",
              "      <td>19.79</td>\n",
              "      <td>44.790000</td>\n",
              "      <td>19.000000</td>\n",
              "      <td>45.992500</td>\n",
              "      <td>17.166667</td>\n",
              "      <td>55.20</td>\n",
              "      <td>6.833333</td>\n",
              "      <td>84.063333</td>\n",
              "      <td>17.200000</td>\n",
              "      <td>41.560000</td>\n",
              "      <td>18.2</td>\n",
              "      <td>48.863333</td>\n",
              "      <td>17.066667</td>\n",
              "      <td>45.56</td>\n",
              "      <td>6.483333</td>\n",
              "      <td>733.6</td>\n",
              "      <td>92.0</td>\n",
              "      <td>6.666667</td>\n",
              "      <td>59.166667</td>\n",
              "      <td>5.2</td>\n",
              "      <td>18.606195</td>\n",
              "      <td>18.606195</td>\n",
              "    </tr>\n",
              "    <tr>\n",
              "      <th>2</th>\n",
              "      <td>2016-01-11 17:20:00</td>\n",
              "      <td>50</td>\n",
              "      <td>30</td>\n",
              "      <td>19.89</td>\n",
              "      <td>46.300000</td>\n",
              "      <td>19.2</td>\n",
              "      <td>44.626667</td>\n",
              "      <td>19.79</td>\n",
              "      <td>44.933333</td>\n",
              "      <td>18.926667</td>\n",
              "      <td>45.890000</td>\n",
              "      <td>17.166667</td>\n",
              "      <td>55.09</td>\n",
              "      <td>6.560000</td>\n",
              "      <td>83.156667</td>\n",
              "      <td>17.200000</td>\n",
              "      <td>41.433333</td>\n",
              "      <td>18.2</td>\n",
              "      <td>48.730000</td>\n",
              "      <td>17.000000</td>\n",
              "      <td>45.50</td>\n",
              "      <td>6.366667</td>\n",
              "      <td>733.7</td>\n",
              "      <td>92.0</td>\n",
              "      <td>6.333333</td>\n",
              "      <td>55.333333</td>\n",
              "      <td>5.1</td>\n",
              "      <td>28.642668</td>\n",
              "      <td>28.642668</td>\n",
              "    </tr>\n",
              "    <tr>\n",
              "      <th>3</th>\n",
              "      <td>2016-01-11 17:30:00</td>\n",
              "      <td>50</td>\n",
              "      <td>40</td>\n",
              "      <td>19.89</td>\n",
              "      <td>46.066667</td>\n",
              "      <td>19.2</td>\n",
              "      <td>44.590000</td>\n",
              "      <td>19.79</td>\n",
              "      <td>45.000000</td>\n",
              "      <td>18.890000</td>\n",
              "      <td>45.723333</td>\n",
              "      <td>17.166667</td>\n",
              "      <td>55.09</td>\n",
              "      <td>6.433333</td>\n",
              "      <td>83.423333</td>\n",
              "      <td>17.133333</td>\n",
              "      <td>41.290000</td>\n",
              "      <td>18.1</td>\n",
              "      <td>48.590000</td>\n",
              "      <td>17.000000</td>\n",
              "      <td>45.40</td>\n",
              "      <td>6.250000</td>\n",
              "      <td>733.8</td>\n",
              "      <td>92.0</td>\n",
              "      <td>6.000000</td>\n",
              "      <td>51.500000</td>\n",
              "      <td>5.0</td>\n",
              "      <td>45.410389</td>\n",
              "      <td>45.410389</td>\n",
              "    </tr>\n",
              "    <tr>\n",
              "      <th>4</th>\n",
              "      <td>2016-01-11 17:40:00</td>\n",
              "      <td>60</td>\n",
              "      <td>40</td>\n",
              "      <td>19.89</td>\n",
              "      <td>46.333333</td>\n",
              "      <td>19.2</td>\n",
              "      <td>44.530000</td>\n",
              "      <td>19.79</td>\n",
              "      <td>45.000000</td>\n",
              "      <td>18.890000</td>\n",
              "      <td>45.530000</td>\n",
              "      <td>17.200000</td>\n",
              "      <td>55.09</td>\n",
              "      <td>6.366667</td>\n",
              "      <td>84.893333</td>\n",
              "      <td>17.200000</td>\n",
              "      <td>41.230000</td>\n",
              "      <td>18.1</td>\n",
              "      <td>48.590000</td>\n",
              "      <td>17.000000</td>\n",
              "      <td>45.40</td>\n",
              "      <td>6.133333</td>\n",
              "      <td>733.9</td>\n",
              "      <td>92.0</td>\n",
              "      <td>5.666667</td>\n",
              "      <td>47.666667</td>\n",
              "      <td>4.9</td>\n",
              "      <td>10.084097</td>\n",
              "      <td>10.084097</td>\n",
              "    </tr>\n",
              "  </tbody>\n",
              "</table>\n",
              "</div>"
            ],
            "text/plain": [
              "                  date  Appliances  lights  ...  Tdewpoint        rv1        rv2\n",
              "0  2016-01-11 17:00:00          60      30  ...        5.3  13.275433  13.275433\n",
              "1  2016-01-11 17:10:00          60      30  ...        5.2  18.606195  18.606195\n",
              "2  2016-01-11 17:20:00          50      30  ...        5.1  28.642668  28.642668\n",
              "3  2016-01-11 17:30:00          50      40  ...        5.0  45.410389  45.410389\n",
              "4  2016-01-11 17:40:00          60      40  ...        4.9  10.084097  10.084097\n",
              "\n",
              "[5 rows x 29 columns]"
            ]
          },
          "metadata": {
            "tags": []
          },
          "execution_count": 2
        }
      ]
    },
    {
      "cell_type": "code",
      "metadata": {
        "id": "aNKSL5DAwarx",
        "colab_type": "code",
        "colab": {}
      },
      "source": [
        "#Drop the date and lights columns\n",
        "df.drop([\"date\", \"lights\"], axis=1, inplace=True)"
      ],
      "execution_count": 3,
      "outputs": []
    },
    {
      "cell_type": "code",
      "metadata": {
        "id": "R4ZBI8u_NHYL",
        "colab_type": "code",
        "colab": {
          "base_uri": "https://localhost:8080/",
          "height": 595
        },
        "outputId": "5eaf2729-ac65-491b-9b66-0e2825018ed1"
      },
      "source": [
        "df.info()"
      ],
      "execution_count": 4,
      "outputs": [
        {
          "output_type": "stream",
          "text": [
            "<class 'pandas.core.frame.DataFrame'>\n",
            "RangeIndex: 19735 entries, 0 to 19734\n",
            "Data columns (total 27 columns):\n",
            " #   Column       Non-Null Count  Dtype  \n",
            "---  ------       --------------  -----  \n",
            " 0   Appliances   19735 non-null  int64  \n",
            " 1   T1           19735 non-null  float64\n",
            " 2   RH_1         19735 non-null  float64\n",
            " 3   T2           19735 non-null  float64\n",
            " 4   RH_2         19735 non-null  float64\n",
            " 5   T3           19735 non-null  float64\n",
            " 6   RH_3         19735 non-null  float64\n",
            " 7   T4           19735 non-null  float64\n",
            " 8   RH_4         19735 non-null  float64\n",
            " 9   T5           19735 non-null  float64\n",
            " 10  RH_5         19735 non-null  float64\n",
            " 11  T6           19735 non-null  float64\n",
            " 12  RH_6         19735 non-null  float64\n",
            " 13  T7           19735 non-null  float64\n",
            " 14  RH_7         19735 non-null  float64\n",
            " 15  T8           19735 non-null  float64\n",
            " 16  RH_8         19735 non-null  float64\n",
            " 17  T9           19735 non-null  float64\n",
            " 18  RH_9         19735 non-null  float64\n",
            " 19  T_out        19735 non-null  float64\n",
            " 20  Press_mm_hg  19735 non-null  float64\n",
            " 21  RH_out       19735 non-null  float64\n",
            " 22  Windspeed    19735 non-null  float64\n",
            " 23  Visibility   19735 non-null  float64\n",
            " 24  Tdewpoint    19735 non-null  float64\n",
            " 25  rv1          19735 non-null  float64\n",
            " 26  rv2          19735 non-null  float64\n",
            "dtypes: float64(26), int64(1)\n",
            "memory usage: 4.1 MB\n"
          ],
          "name": "stdout"
        }
      ]
    },
    {
      "cell_type": "code",
      "metadata": {
        "id": "WUNZq0ZJxRPl",
        "colab_type": "code",
        "colab": {}
      },
      "source": [
        "#Normalizing the dataset\n",
        "from sklearn.preprocessing import MinMaxScaler\n",
        "scaler = MinMaxScaler()\n",
        "normalized_df = pd.DataFrame(scaler.fit_transform(df), columns=df.columns)\n"
      ],
      "execution_count": 5,
      "outputs": []
    },
    {
      "cell_type": "markdown",
      "metadata": {
        "id": "z44uWST6BVLN",
        "colab_type": "text"
      },
      "source": [
        "**Question 12**\n",
        "\n",
        "From the dataset, fit a linear model on the relationship between the temperature in the living room in Celsius (x = T2) and the temperature outside the building (y = T6). What is the R^2 value in two D.P?"
      ]
    },
    {
      "cell_type": "code",
      "metadata": {
        "id": "qFyta9lhf55g",
        "colab_type": "code",
        "colab": {}
      },
      "source": [
        "#Select the features and target variable\n",
        "target = normalized_df[\"T6\"]\n",
        "features = np.array(normalized_df[\"T2\"]).reshape(-1,1)\n",
        "\n",
        "#Split tghe dataset\n",
        "from sklearn.model_selection import train_test_split\n",
        "X_train, X_test, y_train, y_test = train_test_split(features, target, test_size=30, random_state=42)"
      ],
      "execution_count": 6,
      "outputs": []
    },
    {
      "cell_type": "code",
      "metadata": {
        "id": "6Ga6Axin0oqz",
        "colab_type": "code",
        "colab": {}
      },
      "source": [
        "#Model Training\n",
        "from sklearn.linear_model import LinearRegression\n",
        "linear_model = LinearRegression()\n",
        "linear_model.fit(X_test, y_test)\n",
        "\n",
        "#Prediction from model\n",
        "predictions = linear_model.predict(X_test)"
      ],
      "execution_count": 7,
      "outputs": []
    },
    {
      "cell_type": "code",
      "metadata": {
        "id": "EDjyhxYQgxxT",
        "colab_type": "code",
        "colab": {
          "base_uri": "https://localhost:8080/",
          "height": 34
        },
        "outputId": "2e29f7bb-c69c-4300-9a03-d160a0980279"
      },
      "source": [
        "from sklearn import metrics\n",
        "r_2 = metrics.r2_score(y_test, predictions).round(2)\n",
        "print(f\" R_Squared: {r_2}\")"
      ],
      "execution_count": 8,
      "outputs": [
        {
          "output_type": "stream",
          "text": [
            " R_Squared: 0.48\n"
          ],
          "name": "stdout"
        }
      ]
    },
    {
      "cell_type": "markdown",
      "metadata": {
        "id": "fByCywmEhAMH",
        "colab_type": "text"
      },
      "source": [
        "**Question 13**\n",
        "\n",
        "What is the Mean Absolute Error (in two decimal places)?"
      ]
    },
    {
      "cell_type": "code",
      "metadata": {
        "id": "jZQMhmSehS6V",
        "colab_type": "code",
        "colab": {
          "base_uri": "https://localhost:8080/",
          "height": 34
        },
        "outputId": "2fff8c0b-c939-43f6-a761-def492717c97"
      },
      "source": [
        "mae = metrics.mean_absolute_error(y_test, predictions).round(2)\n",
        "print(f\" MAE: {mae}\")"
      ],
      "execution_count": 9,
      "outputs": [
        {
          "output_type": "stream",
          "text": [
            " MAE: 0.09\n"
          ],
          "name": "stdout"
        }
      ]
    },
    {
      "cell_type": "markdown",
      "metadata": {
        "id": "7lMTszoMhlKb",
        "colab_type": "text"
      },
      "source": [
        "**Question 14**\n",
        "\n",
        "What is the Residual Sum of Squares (in two decimal places)?\n"
      ]
    },
    {
      "cell_type": "code",
      "metadata": {
        "id": "XJNqDbcbhgqK",
        "colab_type": "code",
        "colab": {
          "base_uri": "https://localhost:8080/",
          "height": 34
        },
        "outputId": "9cfa9c30-47e1-4515-b262-0bb82a417521"
      },
      "source": [
        "rss = np.sum(np.square(y_test - predictions)).round(2)\n",
        "print(f\" RSS: {rss}\")"
      ],
      "execution_count": 10,
      "outputs": [
        {
          "output_type": "stream",
          "text": [
            " RSS: 0.32\n"
          ],
          "name": "stdout"
        }
      ]
    },
    {
      "cell_type": "markdown",
      "metadata": {
        "id": "Ys56cKSeh1IO",
        "colab_type": "text"
      },
      "source": [
        "**Question 15**\n",
        "\n",
        "What is the Root Mean Squared Error (in three decimal places)?\n"
      ]
    },
    {
      "cell_type": "code",
      "metadata": {
        "id": "4surEXtQiCvy",
        "colab_type": "code",
        "colab": {
          "base_uri": "https://localhost:8080/",
          "height": 34
        },
        "outputId": "7becca3f-d6c8-4905-e09f-300b55f00bf0"
      },
      "source": [
        "mse = metrics.mean_squared_error(y_test, predictions)\n",
        "rmse = np.sqrt(mse).round(3)\n",
        "print(f\" RMSE: {rmse}\")"
      ],
      "execution_count": 11,
      "outputs": [
        {
          "output_type": "stream",
          "text": [
            " RMSE: 0.104\n"
          ],
          "name": "stdout"
        }
      ]
    },
    {
      "cell_type": "markdown",
      "metadata": {
        "id": "J2N2S2Q_PpJs",
        "colab_type": "text"
      },
      "source": [
        "**Question 16**\n",
        "\n",
        "What is the Coefficient of Determination (in two decimal places)? "
      ]
    },
    {
      "cell_type": "code",
      "metadata": {
        "id": "N4fgHSBR1Uj3",
        "colab_type": "code",
        "colab": {
          "base_uri": "https://localhost:8080/",
          "height": 34
        },
        "outputId": "40f1ac56-7689-47c1-b394-746b829d2133"
      },
      "source": [
        "print(f\"Coefficient: {linear_model.coef_.round(2)}\")"
      ],
      "execution_count": 12,
      "outputs": [
        {
          "output_type": "stream",
          "text": [
            "Coefficient: [0.66]\n"
          ],
          "name": "stdout"
        }
      ]
    },
    {
      "cell_type": "markdown",
      "metadata": {
        "id": "tE6dECBVjJrg",
        "colab_type": "text"
      },
      "source": [
        "**Question 17**\n",
        "\n",
        "Obtain the feature weights from your linear model above. Which features have the lowest and highest weights respectively?"
      ]
    },
    {
      "cell_type": "markdown",
      "metadata": {
        "id": "MaJIal1aFBoV",
        "colab_type": "text"
      },
      "source": [
        "**Comparing weights**"
      ]
    },
    {
      "cell_type": "code",
      "metadata": {
        "id": "wAnXfCL2GYMZ",
        "colab_type": "code",
        "colab": {}
      },
      "source": [
        "#Features and target selection\n",
        "target_2 = normalized_df[\"Appliances\"]\n",
        "features_2 = normalized_df.iloc[:, 1:]\n",
        "\n",
        "X_train, X_test, y_train, y_test = train_test_split(features_2, target_2, test_size=30, random_state=42)"
      ],
      "execution_count": 13,
      "outputs": []
    },
    {
      "cell_type": "code",
      "metadata": {
        "id": "nVAL_hdnHoR5",
        "colab_type": "code",
        "colab": {
          "base_uri": "https://localhost:8080/",
          "height": 34
        },
        "outputId": "0d9a1dd9-918c-4432-e252-f3124300be91"
      },
      "source": [
        "# Train the linear model\n",
        "linear_model_2 = LinearRegression()\n",
        "linear_model_2.fit(X_train, y_train)"
      ],
      "execution_count": 14,
      "outputs": [
        {
          "output_type": "execute_result",
          "data": {
            "text/plain": [
              "LinearRegression(copy_X=True, fit_intercept=True, n_jobs=None, normalize=False)"
            ]
          },
          "metadata": {
            "tags": []
          },
          "execution_count": 14
        }
      ]
    },
    {
      "cell_type": "code",
      "metadata": {
        "id": "JOBAUlZ2HeyZ",
        "colab_type": "code",
        "colab": {
          "base_uri": "https://localhost:8080/",
          "height": 51
        },
        "outputId": "317234b9-0464-4df2-b732-1dea416ec518"
      },
      "source": [
        "#Train the Ridge model\n",
        "from sklearn.linear_model import Ridge\n",
        "ridge_reg = Ridge()\n",
        "ridge_reg.fit(X_train, y_train)\n"
      ],
      "execution_count": 15,
      "outputs": [
        {
          "output_type": "execute_result",
          "data": {
            "text/plain": [
              "Ridge(alpha=1.0, copy_X=True, fit_intercept=True, max_iter=None,\n",
              "      normalize=False, random_state=None, solver='auto', tol=0.001)"
            ]
          },
          "metadata": {
            "tags": []
          },
          "execution_count": 15
        }
      ]
    },
    {
      "cell_type": "code",
      "metadata": {
        "id": "zz9mgLliIW1c",
        "colab_type": "code",
        "colab": {
          "base_uri": "https://localhost:8080/",
          "height": 68
        },
        "outputId": "eca5219b-a88f-420f-ec76-bf23926970d5"
      },
      "source": [
        "#train the lasso model\n",
        "from sklearn.linear_model import Lasso\n",
        "lasso_reg = Lasso()\n",
        "lasso_reg.fit(X_train, y_train)"
      ],
      "execution_count": 16,
      "outputs": [
        {
          "output_type": "execute_result",
          "data": {
            "text/plain": [
              "Lasso(alpha=1.0, copy_X=True, fit_intercept=True, max_iter=1000,\n",
              "      normalize=False, positive=False, precompute=False, random_state=None,\n",
              "      selection='cyclic', tol=0.0001, warm_start=False)"
            ]
          },
          "metadata": {
            "tags": []
          },
          "execution_count": 16
        }
      ]
    },
    {
      "cell_type": "code",
      "metadata": {
        "id": "mwxDXPrxFA4A",
        "colab_type": "code",
        "colab": {
          "base_uri": "https://localhost:8080/",
          "height": 855
        },
        "outputId": "e31980d1-9a0f-472b-cb2e-7f308a06ba20"
      },
      "source": [
        "#comparing the effects of regularisation\n",
        "def get_weights_df(model, feat, col_name):\n",
        "  #this function returns the weight of every feature\n",
        "  weights = pd.Series(model.coef_, feat.columns).sort_values()\n",
        "  weights_df = pd.DataFrame(weights).reset_index()\n",
        "  weights_df.columns = ['Features', col_name]\n",
        "  weights_df[col_name].round(3)\n",
        "  return weights_df\n",
        "\n",
        "linear_model_weights = get_weights_df(linear_model_2, X_train, 'Linear_Model_Weight')\n",
        "ridge_weights_df = get_weights_df(ridge_reg, X_train, 'Ridge_Weight')\n",
        "lasso_weights_df = get_weights_df(lasso_reg, X_train, 'Lasso_weight')\n",
        "\n",
        "final_weights = pd.merge(linear_model_weights, ridge_weights_df, on='Features')\n",
        "final_weights = pd.merge(final_weights, lasso_weights_df, on='Features')\n",
        "final_weights"
      ],
      "execution_count": 17,
      "outputs": [
        {
          "output_type": "execute_result",
          "data": {
            "text/html": [
              "<div>\n",
              "<style scoped>\n",
              "    .dataframe tbody tr th:only-of-type {\n",
              "        vertical-align: middle;\n",
              "    }\n",
              "\n",
              "    .dataframe tbody tr th {\n",
              "        vertical-align: top;\n",
              "    }\n",
              "\n",
              "    .dataframe thead th {\n",
              "        text-align: right;\n",
              "    }\n",
              "</style>\n",
              "<table border=\"1\" class=\"dataframe\">\n",
              "  <thead>\n",
              "    <tr style=\"text-align: right;\">\n",
              "      <th></th>\n",
              "      <th>Features</th>\n",
              "      <th>Linear_Model_Weight</th>\n",
              "      <th>Ridge_Weight</th>\n",
              "      <th>Lasso_weight</th>\n",
              "    </tr>\n",
              "  </thead>\n",
              "  <tbody>\n",
              "    <tr>\n",
              "      <th>0</th>\n",
              "      <td>RH_2</td>\n",
              "      <td>-0.479502</td>\n",
              "      <td>-0.403472</td>\n",
              "      <td>-0.0</td>\n",
              "    </tr>\n",
              "    <tr>\n",
              "      <th>1</th>\n",
              "      <td>T_out</td>\n",
              "      <td>-0.307917</td>\n",
              "      <td>-0.222066</td>\n",
              "      <td>0.0</td>\n",
              "    </tr>\n",
              "    <tr>\n",
              "      <th>2</th>\n",
              "      <td>T2</td>\n",
              "      <td>-0.261161</td>\n",
              "      <td>-0.203011</td>\n",
              "      <td>0.0</td>\n",
              "    </tr>\n",
              "    <tr>\n",
              "      <th>3</th>\n",
              "      <td>T9</td>\n",
              "      <td>-0.198544</td>\n",
              "      <td>-0.196712</td>\n",
              "      <td>0.0</td>\n",
              "    </tr>\n",
              "    <tr>\n",
              "      <th>4</th>\n",
              "      <td>RH_8</td>\n",
              "      <td>-0.161369</td>\n",
              "      <td>-0.159552</td>\n",
              "      <td>-0.0</td>\n",
              "    </tr>\n",
              "    <tr>\n",
              "      <th>5</th>\n",
              "      <td>RH_out</td>\n",
              "      <td>-0.063819</td>\n",
              "      <td>-0.032599</td>\n",
              "      <td>-0.0</td>\n",
              "    </tr>\n",
              "    <tr>\n",
              "      <th>6</th>\n",
              "      <td>RH_7</td>\n",
              "      <td>-0.048498</td>\n",
              "      <td>-0.050779</td>\n",
              "      <td>-0.0</td>\n",
              "    </tr>\n",
              "    <tr>\n",
              "      <th>7</th>\n",
              "      <td>RH_9</td>\n",
              "      <td>-0.033971</td>\n",
              "      <td>-0.036581</td>\n",
              "      <td>-0.0</td>\n",
              "    </tr>\n",
              "    <tr>\n",
              "      <th>8</th>\n",
              "      <td>rv1</td>\n",
              "      <td>-0.000957</td>\n",
              "      <td>-0.000959</td>\n",
              "      <td>-0.0</td>\n",
              "    </tr>\n",
              "    <tr>\n",
              "      <th>9</th>\n",
              "      <td>rv2</td>\n",
              "      <td>-0.000957</td>\n",
              "      <td>-0.000959</td>\n",
              "      <td>-0.0</td>\n",
              "    </tr>\n",
              "    <tr>\n",
              "      <th>10</th>\n",
              "      <td>T5</td>\n",
              "      <td>-0.000479</td>\n",
              "      <td>-0.007242</td>\n",
              "      <td>0.0</td>\n",
              "    </tr>\n",
              "    <tr>\n",
              "      <th>11</th>\n",
              "      <td>T1</td>\n",
              "      <td>0.004264</td>\n",
              "      <td>-0.020483</td>\n",
              "      <td>0.0</td>\n",
              "    </tr>\n",
              "    <tr>\n",
              "      <th>12</th>\n",
              "      <td>Press_mm_hg</td>\n",
              "      <td>0.004950</td>\n",
              "      <td>0.004480</td>\n",
              "      <td>-0.0</td>\n",
              "    </tr>\n",
              "    <tr>\n",
              "      <th>13</th>\n",
              "      <td>Visibility</td>\n",
              "      <td>0.010512</td>\n",
              "      <td>0.010198</td>\n",
              "      <td>0.0</td>\n",
              "    </tr>\n",
              "    <tr>\n",
              "      <th>14</th>\n",
              "      <td>T7</td>\n",
              "      <td>0.010685</td>\n",
              "      <td>0.010017</td>\n",
              "      <td>0.0</td>\n",
              "    </tr>\n",
              "    <tr>\n",
              "      <th>15</th>\n",
              "      <td>RH_5</td>\n",
              "      <td>0.014886</td>\n",
              "      <td>0.014931</td>\n",
              "      <td>0.0</td>\n",
              "    </tr>\n",
              "    <tr>\n",
              "      <th>16</th>\n",
              "      <td>Windspeed</td>\n",
              "      <td>0.027944</td>\n",
              "      <td>0.029474</td>\n",
              "      <td>0.0</td>\n",
              "    </tr>\n",
              "    <tr>\n",
              "      <th>17</th>\n",
              "      <td>T4</td>\n",
              "      <td>0.030661</td>\n",
              "      <td>0.027746</td>\n",
              "      <td>0.0</td>\n",
              "    </tr>\n",
              "    <tr>\n",
              "      <th>18</th>\n",
              "      <td>RH_6</td>\n",
              "      <td>0.031698</td>\n",
              "      <td>0.027946</td>\n",
              "      <td>-0.0</td>\n",
              "    </tr>\n",
              "    <tr>\n",
              "      <th>19</th>\n",
              "      <td>RH_4</td>\n",
              "      <td>0.041833</td>\n",
              "      <td>0.037945</td>\n",
              "      <td>0.0</td>\n",
              "    </tr>\n",
              "    <tr>\n",
              "      <th>20</th>\n",
              "      <td>RH_3</td>\n",
              "      <td>0.101328</td>\n",
              "      <td>0.099690</td>\n",
              "      <td>0.0</td>\n",
              "    </tr>\n",
              "    <tr>\n",
              "      <th>21</th>\n",
              "      <td>T8</td>\n",
              "      <td>0.103562</td>\n",
              "      <td>0.101732</td>\n",
              "      <td>0.0</td>\n",
              "    </tr>\n",
              "    <tr>\n",
              "      <th>22</th>\n",
              "      <td>Tdewpoint</td>\n",
              "      <td>0.104288</td>\n",
              "      <td>0.056075</td>\n",
              "      <td>0.0</td>\n",
              "    </tr>\n",
              "    <tr>\n",
              "      <th>23</th>\n",
              "      <td>T6</td>\n",
              "      <td>0.245328</td>\n",
              "      <td>0.214440</td>\n",
              "      <td>0.0</td>\n",
              "    </tr>\n",
              "    <tr>\n",
              "      <th>24</th>\n",
              "      <td>T3</td>\n",
              "      <td>0.285438</td>\n",
              "      <td>0.281415</td>\n",
              "      <td>0.0</td>\n",
              "    </tr>\n",
              "    <tr>\n",
              "      <th>25</th>\n",
              "      <td>RH_1</td>\n",
              "      <td>0.547622</td>\n",
              "      <td>0.491254</td>\n",
              "      <td>0.0</td>\n",
              "    </tr>\n",
              "  </tbody>\n",
              "</table>\n",
              "</div>"
            ],
            "text/plain": [
              "       Features  Linear_Model_Weight  Ridge_Weight  Lasso_weight\n",
              "0          RH_2            -0.479502     -0.403472          -0.0\n",
              "1         T_out            -0.307917     -0.222066           0.0\n",
              "2            T2            -0.261161     -0.203011           0.0\n",
              "3            T9            -0.198544     -0.196712           0.0\n",
              "4          RH_8            -0.161369     -0.159552          -0.0\n",
              "5        RH_out            -0.063819     -0.032599          -0.0\n",
              "6          RH_7            -0.048498     -0.050779          -0.0\n",
              "7          RH_9            -0.033971     -0.036581          -0.0\n",
              "8           rv1            -0.000957     -0.000959          -0.0\n",
              "9           rv2            -0.000957     -0.000959          -0.0\n",
              "10           T5            -0.000479     -0.007242           0.0\n",
              "11           T1             0.004264     -0.020483           0.0\n",
              "12  Press_mm_hg             0.004950      0.004480          -0.0\n",
              "13   Visibility             0.010512      0.010198           0.0\n",
              "14           T7             0.010685      0.010017           0.0\n",
              "15         RH_5             0.014886      0.014931           0.0\n",
              "16    Windspeed             0.027944      0.029474           0.0\n",
              "17           T4             0.030661      0.027746           0.0\n",
              "18         RH_6             0.031698      0.027946          -0.0\n",
              "19         RH_4             0.041833      0.037945           0.0\n",
              "20         RH_3             0.101328      0.099690           0.0\n",
              "21           T8             0.103562      0.101732           0.0\n",
              "22    Tdewpoint             0.104288      0.056075           0.0\n",
              "23           T6             0.245328      0.214440           0.0\n",
              "24           T3             0.285438      0.281415           0.0\n",
              "25         RH_1             0.547622      0.491254           0.0"
            ]
          },
          "metadata": {
            "tags": []
          },
          "execution_count": 17
        }
      ]
    },
    {
      "cell_type": "markdown",
      "metadata": {
        "id": "mEoP_p9JJwea",
        "colab_type": "text"
      },
      "source": [
        "**Question 18**\n",
        "\n",
        "Train a ridge regression model with an alpha value of 0.4. Is there any change to the root mean squared error (RMSE) when evaluated on the test set?\n",
        "\n"
      ]
    },
    {
      "cell_type": "code",
      "metadata": {
        "id": "9CEw-9GDmPJN",
        "colab_type": "code",
        "colab": {
          "base_uri": "https://localhost:8080/",
          "height": 34
        },
        "outputId": "544c77c3-f59d-490b-bf83-87824c1744af"
      },
      "source": [
        "#Train the ridge model with no alpha value\n",
        "ridge_reg = Ridge()\n",
        "ridge_reg.fit(X_train, y_train)\n",
        "\n",
        "#Obtain predictions\n",
        "predictions_ridge = ridge_reg.predict(X_test)\n",
        "\n",
        "#Evaluate model\n",
        "mse = metrics.mean_squared_error(y_test, predictions_ridge)\n",
        "rmse = np.sqrt(mse).round(3)\n",
        "print(f\" RMSE: {rmse}\")"
      ],
      "execution_count": 18,
      "outputs": [
        {
          "output_type": "stream",
          "text": [
            " RMSE: 0.055\n"
          ],
          "name": "stdout"
        }
      ]
    },
    {
      "cell_type": "code",
      "metadata": {
        "id": "2DlWzMDpFH_N",
        "colab_type": "code",
        "colab": {
          "base_uri": "https://localhost:8080/",
          "height": 34
        },
        "outputId": "fdfcee06-49a0-4b3e-f0a1-520b3206569b"
      },
      "source": [
        "#Train the Ridge model on alpha = 0.4\n",
        "ridge_reg2 = Ridge(alpha=0.4)\n",
        "ridge_reg2.fit(X_train, y_train)\n",
        "\n",
        "#Obtain predictions\n",
        "predictions_ridge1 = ridge_reg2.predict(X_test)\n",
        "\n",
        "#Evaluate the model\n",
        "mse = metrics.mean_squared_error(y_test, predictions_ridge1)\n",
        "rmse = np.sqrt(mse).round(3)\n",
        "print(f\" RMSE: {rmse}\")"
      ],
      "execution_count": 19,
      "outputs": [
        {
          "output_type": "stream",
          "text": [
            " RMSE: 0.055\n"
          ],
          "name": "stdout"
        }
      ]
    },
    {
      "cell_type": "markdown",
      "metadata": {
        "id": "WpGHbL5zK6HI",
        "colab_type": "text"
      },
      "source": [
        "**Question 19**\n",
        "\n",
        "Train a lasso regression model with an alpha value of 0.001 and obtain the new feature weights with it. How many of the features have non-zero feature weights?"
      ]
    },
    {
      "cell_type": "code",
      "metadata": {
        "id": "-YaFUMElK_we",
        "colab_type": "code",
        "colab": {
          "base_uri": "https://localhost:8080/",
          "height": 68
        },
        "outputId": "7efa703c-0dea-4d44-8f68-933e9b6e022d"
      },
      "source": [
        "#train the lasso model\n",
        "from sklearn.linear_model import Lasso\n",
        "lasso_reg2 = Lasso(alpha=0.001)\n",
        "lasso_reg2.fit(X_train, y_train)"
      ],
      "execution_count": 20,
      "outputs": [
        {
          "output_type": "execute_result",
          "data": {
            "text/plain": [
              "Lasso(alpha=0.001, copy_X=True, fit_intercept=True, max_iter=1000,\n",
              "      normalize=False, positive=False, precompute=False, random_state=None,\n",
              "      selection='cyclic', tol=0.0001, warm_start=False)"
            ]
          },
          "metadata": {
            "tags": []
          },
          "execution_count": 20
        }
      ]
    },
    {
      "cell_type": "code",
      "metadata": {
        "id": "ek_lPcQcLKB2",
        "colab_type": "code",
        "colab": {
          "base_uri": "https://localhost:8080/",
          "height": 476
        },
        "outputId": "d01146d7-7481-4759-cb7f-0a1a3e71ef31"
      },
      "source": [
        "#comparing the effects of regularisation\n",
        "def get_weights_df(model, feat, col_name):\n",
        "  #this function returns the weight of every feature\n",
        "  weights = pd.Series(model.coef_, feat.columns).sort_values()\n",
        "  weights_df = pd.DataFrame(weights).reset_index()\n",
        "  weights_df.columns = ['Features', col_name]\n",
        "  weights_df[col_name]\n",
        "  return weights_df\n",
        "\n",
        "\n",
        "lasso_weights_df = get_weights_df(lasso_reg2, X_train, 'Lasso_weight')\n",
        "print(lasso_weights_df)"
      ],
      "execution_count": 21,
      "outputs": [
        {
          "output_type": "stream",
          "text": [
            "       Features  Lasso_weight\n",
            "0        RH_out     -0.050176\n",
            "1            T1      0.000000\n",
            "2     Tdewpoint      0.000000\n",
            "3    Visibility      0.000000\n",
            "4   Press_mm_hg     -0.000000\n",
            "5         T_out      0.000000\n",
            "6          RH_9     -0.000000\n",
            "7            T9     -0.000000\n",
            "8          RH_8     -0.000000\n",
            "9            T8      0.000000\n",
            "10         RH_7     -0.000000\n",
            "11          rv1     -0.000000\n",
            "12           T7     -0.000000\n",
            "13           T6      0.000000\n",
            "14         RH_5      0.000000\n",
            "15           T5     -0.000000\n",
            "16         RH_4      0.000000\n",
            "17           T4     -0.000000\n",
            "18         RH_3      0.000000\n",
            "19           T3      0.000000\n",
            "20         RH_2     -0.000000\n",
            "21           T2      0.000000\n",
            "22         RH_6     -0.000000\n",
            "23          rv2     -0.000000\n",
            "24    Windspeed      0.003287\n",
            "25         RH_1      0.015491\n"
          ],
          "name": "stdout"
        }
      ]
    },
    {
      "cell_type": "markdown",
      "metadata": {
        "id": "ud3O2MeDPJMU",
        "colab_type": "text"
      },
      "source": [
        "**Question 20**\n",
        "\n",
        "What is the new RMSE with the Lasso Regression (in 3 decimal places)?  "
      ]
    },
    {
      "cell_type": "code",
      "metadata": {
        "id": "KG9BuE6JLbI5",
        "colab_type": "code",
        "colab": {
          "base_uri": "https://localhost:8080/",
          "height": 34
        },
        "outputId": "dbb9d08b-2ce5-4605-d5fe-fccdbf6d1f82"
      },
      "source": [
        "#Train the Ridge model on alpha = 0.4\n",
        "lasso_reg2 = Lasso(alpha=0.4)\n",
        "lasso_reg2.fit(X_train, y_train)\n",
        "\n",
        "#Obtain predictions\n",
        "predictions_lasso1 = lasso_reg2.predict(X_test)\n",
        "\n",
        "#Evaluate the model\n",
        "mse = metrics.mean_squared_error(y_test, predictions_lasso1)\n",
        "rmse = np.sqrt(mse).round(3)\n",
        "print(f\" RMSE: {rmse}\")\n"
      ],
      "execution_count": 22,
      "outputs": [
        {
          "output_type": "stream",
          "text": [
            " RMSE: 0.055\n"
          ],
          "name": "stdout"
        }
      ]
    }
  ]
}